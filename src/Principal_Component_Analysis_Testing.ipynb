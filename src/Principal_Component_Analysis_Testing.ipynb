{
 "cells": [
  {
   "cell_type": "markdown",
   "metadata": {},
   "source": []
  },
  {
   "cell_type": "markdown",
   "metadata": {},
   "source": [
    "sources:\n",
    "http://www.cs.otago.ac.nz/cosc453/student_tutorials/principal_components.pdf\n",
    "http://sebastianraschka.com/Articles/2014_pca_step_by_step.html#sort_eig\n",
    "http://dai.fmph.uniba.sk/courses/ml/sl/PCA.pdf ## the most comprehensive ##"
   ]
  },
  {
   "cell_type": "code",
   "execution_count": 1,
   "metadata": {
    "collapsed": false
   },
   "outputs": [
    {
     "name": "stdout",
     "output_type": "stream",
     "text": [
      "Using matplotlib backend: MacOSX\n",
      "Populating the interactive namespace from numpy and matplotlib\n"
     ]
    }
   ],
   "source": [
    "'Libraries...'\n",
    "%pylab\n",
    "%matplotlib inline\n",
    "import numpy as np\n",
    "import matplotlib.pyplot as plt\n",
    "from mpl_toolkits.mplot3d import Axes3D\n"
   ]
  },
  {
   "cell_type": "markdown",
   "metadata": {},
   "source": [
    "1.) Generate the data to test with."
   ]
  },
  {
   "cell_type": "markdown",
   "metadata": {},
   "source": [
    "\n",
    "x    y\n",
    "2.5  2.4\n",
    "0.5  0.7\n",
    "2.2  2.9\n",
    "1.9  2.2\n",
    "3.1  3.0\n",
    "2.3  2.7\n",
    "2    1.6\n",
    "1    1.1\n",
    "1.5  1.6\n",
    "1.1  0.9"
   ]
  },
  {
   "cell_type": "code",
   "execution_count": 2,
   "metadata": {
    "collapsed": false
   },
   "outputs": [
    {
     "name": "stdout",
     "output_type": "stream",
     "text": [
      "[[ 2.5  0.5  2.2  1.9  3.1  2.3  2.   1.   1.5  1.1]\n",
      " [ 2.4  0.7  2.9  2.2  3.   2.7  1.6  1.1  1.6  0.9]]\n"
     ]
    }
   ],
   "source": [
    "data = np.array([[2.5,0.5,2.2,1.9,3.1,2.3,2,1,1.5,1.1],[2.4,0.7,2.9,2.2,3.0,2.7,1.6,1.1,1.6,0.9]])\n",
    "print data"
   ]
  },
  {
   "cell_type": "code",
   "execution_count": 3,
   "metadata": {
    "collapsed": false
   },
   "outputs": [
    {
     "data": {
      "text/plain": [
       "<matplotlib.collections.PathCollection at 0x1061eab90>"
      ]
     },
     "execution_count": 3,
     "metadata": {},
     "output_type": "execute_result"
    },
    {
     "data": {
      "image/png": "[encoded data removed]",
      "text/plain": [
       "<matplotlib.figure.Figure at 0x1042c3350>"
      ]
     },
     "metadata": {},
     "output_type": "display_data"
    }
   ],
   "source": [
    "plt.scatter(data[0],data[1])"
   ]
  },
  {
   "cell_type": "markdown",
   "metadata": {},
   "source": [
    "2.) find the mean of the x and y coordinates."
   ]
  },
  {
   "cell_type": "code",
   "execution_count": 4,
   "metadata": {
    "collapsed": false
   },
   "outputs": [
    {
     "name": "stdout",
     "output_type": "stream",
     "text": [
      "The mean x-coordinate: 1.81\n",
      "The mean y-coordinate: 1.91\n"
     ]
    }
   ],
   "source": [
    "mean_x = np.mean(data[0])\n",
    "mean_y = np.mean(data[1])\n",
    "\n",
    "#print mean_x, mean_y\n",
    "\n",
    "mean_data = np.array([[mean_x], [mean_y]])\n",
    "\n",
    "print 'The mean x-coordinate:',mean_x\n",
    "print 'The mean y-coordinate:',mean_y"
   ]
  },
  {
   "cell_type": "markdown",
   "metadata": {},
   "source": [
    "###### 3.) subtract the mean x and y from the original matrix."
   ]
  },
  {
   "cell_type": "code",
   "execution_count": 5,
   "metadata": {
    "collapsed": false
   },
   "outputs": [
    {
     "name": "stdout",
     "output_type": "stream",
     "text": [
      "[[ 0.69 -1.31  0.39  0.09  1.29  0.49  0.19 -0.81 -0.31 -0.71]\n",
      " [ 0.49 -1.21  0.99  0.29  1.09  0.79 -0.31 -0.81 -0.31 -1.01]]\n"
     ]
    }
   ],
   "source": [
    "data_mod = data - mean_data\n",
    "print data_mod"
   ]
  },
  {
   "cell_type": "code",
   "execution_count": 6,
   "metadata": {
    "collapsed": false
   },
   "outputs": [
    {
     "data": {
      "text/plain": [
       "<matplotlib.collections.PathCollection at 0x10635dfd0>"
      ]
     },
     "execution_count": 6,
     "metadata": {},
     "output_type": "execute_result"
    },
    {
     "data": {
      "image/png": "[encoded data removed]",
      "text/plain": [
       "<matplotlib.figure.Figure at 0x1061eac50>"
      ]
     },
     "metadata": {},
     "output_type": "display_data"
    }
   ],
   "source": [
    "plt.scatter(data_mod[0],data_mod[1])"
   ]
  },
  {
   "cell_type": "markdown",
   "metadata": {},
   "source": [
    "4.) Calculate the covariance matrix."
   ]
  },
  {
   "cell_type": "code",
   "execution_count": 7,
   "metadata": {
    "collapsed": false
   },
   "outputs": [
    {
     "name": "stdout",
     "output_type": "stream",
     "text": [
      "The following is the covariance matrix:\n",
      "[[ 0.61655556  0.61544444]\n",
      " [ 0.61544444  0.71655556]]\n"
     ]
    }
   ],
   "source": [
    "data_covmat = np.cov(data_mod)\n",
    "print 'The following is the covariance matrix:''\\n',data_covmat"
   ]
  },
  {
   "cell_type": "markdown",
   "metadata": {},
   "source": [
    "5.) Calculate the eigenvalues and eigenvectors"
   ]
  },
  {
   "cell_type": "code",
   "execution_count": 8,
   "metadata": {
    "collapsed": false
   },
   "outputs": [
    {
     "name": "stdout",
     "output_type": "stream",
     "text": [
      "The Eigenvalues are:\n",
      "[ 0.0490834   1.28402771]\n",
      "The Eigenvectors are:\n",
      "[[-0.73517866 -0.6778734 ]\n",
      " [ 0.6778734  -0.73517866]]\n"
     ]
    }
   ],
   "source": [
    "eig_val_covmat, eig_vec_covmat = np.linalg.eig(data_covmat)\n",
    "print 'The Eigenvalues are:''\\n',eig_val_covmat\n",
    "print 'The Eigenvectors are:''\\n',eig_vec_covmat"
   ]
  },
  {
   "cell_type": "markdown",
   "metadata": {},
   "source": [
    "6.) Determine the feature vector:\n",
    "    The feature vector(s) will be determined by ordering the eigenvectors by the eigenvectors corresponding to the largest    eigenvalues."
   ]
  },
  {
   "cell_type": "code",
   "execution_count": 9,
   "metadata": {
    "collapsed": false
   },
   "outputs": [
    {
     "name": "stdout",
     "output_type": "stream",
     "text": [
      "The eigenvalues sorted greatest to least:\n",
      "[ 1.28402771  0.0490834 ]\n",
      "The eigenvectors sorted greatest to least:\n",
      "[[ 0.6778734  -0.73517866]\n",
      " [-0.73517866 -0.6778734 ]]\n"
     ]
    }
   ],
   "source": [
    "eig_vals_sorted = np.sort(eig_val_covmat)[::-1]\n",
    "eig_vecs_sorted = eig_vec_covmat[eig_val_covmat.argsort()[::-1]]\n",
    "print 'The eigenvalues sorted greatest to least:''\\n',eig_vals_sorted\n",
    "print 'The eigenvectors sorted greatest to least:''\\n',eig_vecs_sorted"
   ]
  },
  {
   "cell_type": "markdown",
   "metadata": {},
   "source": [
    "-- below this point gets a little tricky. In general, explainations go from very detailed to fuzzy beyond this point."
   ]
  },
  {
   "cell_type": "code",
   "execution_count": 10,
   "metadata": {
    "collapsed": false
   },
   "outputs": [
    {
     "name": "stdout",
     "output_type": "stream",
     "text": [
      "[[ 0.69  0.49]\n",
      " [-1.31 -1.21]\n",
      " [ 0.39  0.99]\n",
      " [ 0.09  0.29]\n",
      " [ 1.29  1.09]\n",
      " [ 0.49  0.79]\n",
      " [ 0.19 -0.31]\n",
      " [-0.81 -0.81]\n",
      " [-0.31 -0.31]\n",
      " [-0.71 -1.01]]\n",
      "[ 0.6778734  -0.73517866]\n"
     ]
    }
   ],
   "source": [
    "print data_mod.T\n",
    "print eig_vecs_sorted[0].T"
   ]
  },
  {
   "cell_type": "code",
   "execution_count": 11,
   "metadata": {
    "collapsed": false
   },
   "outputs": [
    {
     "name": "stdout",
     "output_type": "stream",
     "text": [
      "[ 0.1074951   0.00155202 -0.46345624 -0.1521932   0.07311195 -0.24863317\n",
      "  0.35670133  0.04641726  0.01776463  0.26124033]\n"
     ]
    }
   ],
   "source": [
    "final = np.dot(eig_vecs_sorted[0].T,data_mod)\n",
    "print final"
   ]
  },
  {
   "cell_type": "code",
   "execution_count": 12,
   "metadata": {
    "collapsed": false
   },
   "outputs": [
    {
     "name": "stdout",
     "output_type": "stream",
     "text": [
      "[[ 1.9174951   1.81155202  1.34654376  1.6578068   1.88311195  1.56136683\n",
      "   2.16670133  1.85641726  1.82776463  2.07124033]\n",
      " [ 2.0174951   1.91155202  1.44654376  1.7578068   1.98311195  1.66136683\n",
      "   2.26670133  1.95641726  1.92776463  2.17124033]]\n"
     ]
    }
   ],
   "source": [
    "final_fin = final + mean_data\n",
    "print final_fin"
   ]
  },
  {
   "cell_type": "code",
   "execution_count": 13,
   "metadata": {
    "collapsed": false
   },
   "outputs": [
    {
     "data": {
      "text/plain": [
       "<matplotlib.collections.PathCollection at 0x106465810>"
      ]
     },
     "execution_count": 13,
     "metadata": {},
     "output_type": "execute_result"
    },
    {
     "data": {
      "image/png": "[encoded data removed]",
      "text/plain": [
       "<matplotlib.figure.Figure at 0x1061aa390>"
      ]
     },
     "metadata": {},
     "output_type": "display_data"
    }
   ],
   "source": [
    "plt.scatter(final_fin[0],final_fin[1])"
   ]
  },
  {
   "cell_type": "code",
   "execution_count": null,
   "metadata": {
    "collapsed": true
   },
   "outputs": [],
   "source": []
  },
  {
   "cell_type": "code",
   "execution_count": null,
   "metadata": {
    "collapsed": true
   },
   "outputs": [],
   "source": []
  }
 ],
 "metadata": {
  "kernelspec": {
   "display_name": "Python 2",
   "language": "python",
   "name": "python2"
  },
  "language_info": {
   "codemirror_mode": {
    "name": "ipython",
    "version": 2
   },
   "file_extension": ".py",
   "mimetype": "text/x-python",
   "name": "python",
   "nbconvert_exporter": "python",
   "pygments_lexer": "ipython2",
   "version": "2.7.10"
  }
 },
 "nbformat": 4,
 "nbformat_minor": 0
}

{
 "metadata": {
  "name": "",
  "signature": "sha256:77d46f6f9385245959c218ceb76d2ad6b57974b2ecd0f9014d07fd916a9e1d7c"
 },
 "nbformat": 3,
 "nbformat_minor": 0,
 "worksheets": []
}